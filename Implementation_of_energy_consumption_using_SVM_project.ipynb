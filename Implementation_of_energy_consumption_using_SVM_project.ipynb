{
  "nbformat": 4,
  "nbformat_minor": 0,
  "metadata": {
    "colab": {
      "provenance": []
    },
    "kernelspec": {
      "name": "python3",
      "display_name": "Python 3"
    },
    "language_info": {
      "name": "python"
    }
  },
  "cells": [
    {
      "cell_type": "code",
      "execution_count": null,
      "metadata": {
        "id": "B7gEGGuVFdSs"
      },
      "outputs": [],
      "source": [
        "import pandas as pd\n",
        "data = pd.read_csv('https://query.data.world/s/tmlfix7gctaoqc2jfwxh4a3zdjj7zf?dws=00000')"
      ]
    },
    {
      "cell_type": "code",
      "source": [
        "print(data.columns)\n"
      ],
      "metadata": {
        "colab": {
          "base_uri": "https://localhost:8080/"
        },
        "id": "LDSpGgmbFero",
        "outputId": "8f879b28-8f5d-4746-8bfd-9ae1b620f091"
      },
      "execution_count": null,
      "outputs": [
        {
          "output_type": "stream",
          "name": "stdout",
          "text": [
            "Index(['timestamp', 'Main I', 'AC', 'Living Rm', 'Lights living / bath / baby',\n",
            "       'Bath plgs', 'Holiday', '(unnamed II - A)', 'Fridge',\n",
            "       'Kitchn / dining  Lts', 'Furnace', 'Microwave', 'Guest', 'test',\n",
            "       'Guest bath', 'Mini Fridge/Dshwshr', 'Other', 'use', 'mains', 'solar'],\n",
            "      dtype='object')\n"
          ]
        }
      ]
    },
    {
      "cell_type": "code",
      "source": [
        "required_columns = ['Main I', 'AC', 'Living Rm', 'Lights living / bath / baby', 'Bath plgs', 'Fridge', 'Kitchn / dining  Lts', 'Furnace', 'Microwave', 'Guest', 'test',\n",
        "       'Guest bath', 'Mini Fridge/Dshwshr', 'Other', 'use', 'mains', 'solar']\n",
        "\n",
        "# Calculate total consumption\n",
        "data['total_consumption'] = data[required_columns].apply(sum, axis=1)\n",
        "\n",
        "import pandas as pd\n",
        "import plotly.express as px\n",
        "\n",
        "# Create the line graph\n",
        "fig = px.line(data, x='timestamp', y='total_consumption', title='Total Consumption over Time')\n",
        "\n",
        "# Customize the chart\n",
        "fig.update_xaxes(title='Timestamp')\n",
        "fig.update_yaxes(title='Total Consumption')\n",
        "fig.show()\n",
        "\n"
      ],
      "metadata": {
        "colab": {
          "base_uri": "https://localhost:8080/",
          "height": 542
        },
        "id": "68xud0geFkfs",
        "outputId": "c43bc017-ddb0-4f6f-c40c-9baebc2c22c8"
      },
      "execution_count": null,
      "outputs": [
        {
          "output_type": "display_data",
          "data": {
            "text/html": [
              "<html>\n",
              "<head><meta charset=\"utf-8\" /></head>\n",
              "<body>\n",
              "    <div>            <script src=\"https://cdnjs.cloudflare.com/ajax/libs/mathjax/2.7.5/MathJax.js?config=TeX-AMS-MML_SVG\"></script><script type=\"text/javascript\">if (window.MathJax && window.MathJax.Hub && window.MathJax.Hub.Config) {window.MathJax.Hub.Config({SVG: {font: \"STIX-Web\"}});}</script>                <script type=\"text/javascript\">window.PlotlyConfig = {MathJaxConfig: 'local'};</script>\n",
              "        <script charset=\"utf-8\" src=\"https://cdn.plot.ly/plotly-2.24.1.min.js\"></script>                <div id=\"76e81f3a-a480-4a4b-99be-36f3f437967c\" class=\"plotly-graph-div\" style=\"height:525px; width:100%;\"></div>            <script type=\"text/javascript\">                                    window.PLOTLYENV=window.PLOTLYENV || {};                                    if (document.getElementById(\"76e81f3a-a480-4a4b-99be-36f3f437967c\")) {                    Plotly.newPlot(                        \"76e81f3a-a480-4a4b-99be-36f3f437967c\",                        [{\"hovertemplate\":\"timestamp=%{x}\\u003cbr\\u003etotal_consumption=%{y}\\u003cextra\\u003e\\u003c\\u002fextra\\u003e\",\"legendgroup\":\"\",\"line\":{\"color\":\"#636efa\",\"dash\":\"solid\"},\"marker\":{\"symbol\":\"circle\"},\"mode\":\"lines\",\"name\":\"\",\"orientation\":\"v\",\"showlegend\":false,\"x\":[\"2016-07-31 09:00:00-05:00\",\"2016-07-31 10:00:00-05:00\",\"2016-07-31 11:00:00-05:00\",\"2016-07-31 12:00:00-05:00\",\"2016-07-31 13:00:00-05:00\",\"2016-07-31 14:00:00-05:00\",\"2016-07-31 15:00:00-05:00\",\"2016-07-31 16:00:00-05:00\",\"2016-07-31 17:00:00-05:00\",\"2016-07-31 18:00:00-05:00\",\"2016-07-31 19:00:00-05:00\",\"2016-07-31 20:00:00-05:00\",\"2016-07-31 21:00:00-05:00\",\"2016-07-31 22:00:00-05:00\",\"2016-07-31 23:00:00-05:00\",\"2016-08-01 00:00:00-05:00\",\"2016-08-01 01:00:00-05:00\",\"2016-08-01 02:00:00-05:00\",\"2016-08-01 03:00:00-05:00\",\"2016-08-01 04:00:00-05:00\",\"2016-08-01 05:00:00-05:00\",\"2016-08-01 06:00:00-05:00\",\"2016-08-01 07:00:00-05:00\",\"2016-08-01 08:00:00-05:00\",\"2016-08-01 09:00:00-05:00\",\"2016-08-01 10:00:00-05:00\",\"2016-08-01 11:00:00-05:00\",\"2016-08-01 12:00:00-05:00\",\"2016-08-01 13:00:00-05:00\",\"2016-08-01 14:00:00-05:00\",\"2016-08-01 15:00:00-05:00\",\"2016-08-01 16:00:00-05:00\",\"2016-08-01 17:00:00-05:00\",\"2016-08-01 18:00:00-05:00\",\"2016-08-01 19:00:00-05:00\",\"2016-08-01 20:00:00-05:00\",\"2016-08-01 21:00:00-05:00\",\"2016-08-01 22:00:00-05:00\",\"2016-08-01 23:00:00-05:00\",\"2016-08-02 00:00:00-05:00\",\"2016-08-02 01:00:00-05:00\",\"2016-08-02 02:00:00-05:00\",\"2016-08-02 03:00:00-05:00\",\"2016-08-02 04:00:00-05:00\",\"2016-08-02 05:00:00-05:00\",\"2016-08-02 06:00:00-05:00\",\"2016-08-02 07:00:00-05:00\",\"2016-08-02 08:00:00-05:00\",\"2016-08-02 09:00:00-05:00\",\"2016-08-02 10:00:00-05:00\",\"2016-08-02 11:00:00-05:00\",\"2016-08-02 12:00:00-05:00\",\"2016-08-02 13:00:00-05:00\",\"2016-08-02 14:00:00-05:00\",\"2016-08-02 15:00:00-05:00\",\"2016-08-02 16:00:00-05:00\",\"2016-08-02 17:00:00-05:00\",\"2016-08-02 18:00:00-05:00\",\"2016-08-02 19:00:00-05:00\",\"2016-08-02 20:00:00-05:00\",\"2016-08-02 21:00:00-05:00\",\"2016-08-02 22:00:00-05:00\",\"2016-08-02 23:00:00-05:00\",\"2016-08-03 00:00:00-05:00\",\"2016-08-03 01:00:00-05:00\",\"2016-08-03 02:00:00-05:00\",\"2016-08-03 03:00:00-05:00\",\"2016-08-03 04:00:00-05:00\",\"2016-08-03 05:00:00-05:00\",\"2016-08-03 06:00:00-05:00\",\"2016-08-03 07:00:00-05:00\",\"2016-08-03 08:00:00-05:00\",\"2016-08-03 09:00:00-05:00\",\"2016-08-03 10:00:00-05:00\",\"2016-08-03 11:00:00-05:00\",\"2016-08-03 12:00:00-05:00\",\"2016-08-03 13:00:00-05:00\",\"2016-08-03 14:00:00-05:00\",\"2016-08-03 15:00:00-05:00\",\"2016-08-03 16:00:00-05:00\",\"2016-08-03 17:00:00-05:00\",\"2016-08-03 18:00:00-05:00\",\"2016-08-03 19:00:00-05:00\",\"2016-08-03 20:00:00-05:00\",\"2016-08-03 21:00:00-05:00\",\"2016-08-03 22:00:00-05:00\",\"2016-08-03 23:00:00-05:00\",\"2016-08-04 00:00:00-05:00\",\"2016-08-04 01:00:00-05:00\",\"2016-08-04 02:00:00-05:00\",\"2016-08-04 03:00:00-05:00\",\"2016-08-04 04:00:00-05:00\",\"2016-08-04 05:00:00-05:00\",\"2016-08-04 06:00:00-05:00\",\"2016-08-04 07:00:00-05:00\",\"2016-08-04 08:00:00-05:00\",\"2016-08-04 09:00:00-05:00\",\"2016-08-04 10:00:00-05:00\",\"2016-08-04 11:00:00-05:00\",\"2016-08-04 12:00:00-05:00\",\"2016-08-04 13:00:00-05:00\",\"2016-08-04 14:00:00-05:00\",\"2016-08-04 15:00:00-05:00\",\"2016-08-04 16:00:00-05:00\",\"2016-08-04 17:00:00-05:00\",\"2016-08-04 18:00:00-05:00\",\"2016-08-04 19:00:00-05:00\",\"2016-08-04 20:00:00-05:00\",\"2016-08-04 21:00:00-05:00\",\"2016-08-04 22:00:00-05:00\",\"2016-08-04 23:00:00-05:00\",\"2016-08-05 00:00:00-05:00\",\"2016-08-05 01:00:00-05:00\",\"2016-08-05 02:00:00-05:00\",\"2016-08-05 03:00:00-05:00\",\"2016-08-05 04:00:00-05:00\",\"2016-08-05 05:00:00-05:00\",\"2016-08-05 06:00:00-05:00\",\"2016-08-05 07:00:00-05:00\",\"2016-08-05 08:00:00-05:00\",\"2016-08-05 09:00:00-05:00\",\"2016-08-05 10:00:00-05:00\",\"2016-08-05 11:00:00-05:00\",\"2016-08-05 12:00:00-05:00\",\"2016-08-05 13:00:00-05:00\",\"2016-08-05 14:00:00-05:00\"],\"xaxis\":\"x\",\"y\":[7770.165111327525,7837.663028834184,6995.36559435912,5454.028776306008,9557.612270754347,10390.411885822978,10105.493147057583,10988.58153861665,11127.27462095381,10512.79021845319,12697.262950567378,10530.427199735534,9120.67915469884,9120.67915469884,5327.938888050654,5023.592221666451,4157.289783329099,2759.873356061624,3732.849377292037,2690.896447337574,3315.354860544207,3243.88156099389,1291.6034404405987,1711.9546712574288,1766.452367415362,3388.3940479342646,6923.673553051951,10070.75915975536,10362.795285732393,10472.208806801827,10210.451033370391,11050.00955806546,11050.00955806546,10754.789662721718,10270.746649454475,12104.795146861812,10533.005104565285,8858.551855122281,6053.188676281413,5516.379052811923,1166.2591146996147,4250.655320318901,4059.8089858607987,3480.9416798453035,4341.133704438507,1021.7368649518509,1620.4434991192793,2021.0103007505436,5706.860383198526,8718.603845608619,5656.7315673596995,9612.116733649716,10062.703961090465,11226.150796427226,14072.76614066184,11294.25547005153,11786.430109635556,10973.386770449295,11290.021326005879,10595.456832246078,11172.4073047336,7789.312569998223,6531.272872629995,5352.207378486438,5082.890818556931,3916.622190863797,1279.276748433675,4673.636771941566,3796.254842542312,4014.3047935392556,2308.2638433832603,2225.8611693430666,3675.9698451461472,5904.144157973124,5904.144157973124,8232.206532610106,11302.609007183115,11257.728069023306,11696.225091316737,9436.32643705314,12574.268879240304,12330.037449518204,12231.66261345951,12733.066610364025,5353.911214538941,8418.023005161846,9685.718676344186,7452.201617231873,5340.980521378012,2786.956751411065,4943.4460376569805,2654.0739906341228,5310.815451934102,5310.815451934102,3844.907659727075,2918.0265354924377,2442.0798167753564,6578.420676140632,8179.758111677764,10471.065423081158,11401.491923672012,11401.491923672012,11964.439289727186,9075.400272817424,12400.511759392444,12441.87880357567,11168.392813447515,11134.832385465414,12365.217382668987,10656.147922719032,10656.147922719032,1365.6071795475232,5314.829046886635,5267.72848189613,5650.801357811927,5180.23767462475,4447.557228328991,811.2365558677249,5000.455931296103,2072.7783491541786,2176.655709916803,4799.1450286456275,8281.578658028942,10158.444624149122,10934.951293357866,11178.888397920444],\"yaxis\":\"y\",\"type\":\"scatter\"}],                        {\"template\":{\"data\":{\"histogram2dcontour\":[{\"type\":\"histogram2dcontour\",\"colorbar\":{\"outlinewidth\":0,\"ticks\":\"\"},\"colorscale\":[[0.0,\"#0d0887\"],[0.1111111111111111,\"#46039f\"],[0.2222222222222222,\"#7201a8\"],[0.3333333333333333,\"#9c179e\"],[0.4444444444444444,\"#bd3786\"],[0.5555555555555556,\"#d8576b\"],[0.6666666666666666,\"#ed7953\"],[0.7777777777777778,\"#fb9f3a\"],[0.8888888888888888,\"#fdca26\"],[1.0,\"#f0f921\"]]}],\"choropleth\":[{\"type\":\"choropleth\",\"colorbar\":{\"outlinewidth\":0,\"ticks\":\"\"}}],\"histogram2d\":[{\"type\":\"histogram2d\",\"colorbar\":{\"outlinewidth\":0,\"ticks\":\"\"},\"colorscale\":[[0.0,\"#0d0887\"],[0.1111111111111111,\"#46039f\"],[0.2222222222222222,\"#7201a8\"],[0.3333333333333333,\"#9c179e\"],[0.4444444444444444,\"#bd3786\"],[0.5555555555555556,\"#d8576b\"],[0.6666666666666666,\"#ed7953\"],[0.7777777777777778,\"#fb9f3a\"],[0.8888888888888888,\"#fdca26\"],[1.0,\"#f0f921\"]]}],\"heatmap\":[{\"type\":\"heatmap\",\"colorbar\":{\"outlinewidth\":0,\"ticks\":\"\"},\"colorscale\":[[0.0,\"#0d0887\"],[0.1111111111111111,\"#46039f\"],[0.2222222222222222,\"#7201a8\"],[0.3333333333333333,\"#9c179e\"],[0.4444444444444444,\"#bd3786\"],[0.5555555555555556,\"#d8576b\"],[0.6666666666666666,\"#ed7953\"],[0.7777777777777778,\"#fb9f3a\"],[0.8888888888888888,\"#fdca26\"],[1.0,\"#f0f921\"]]}],\"heatmapgl\":[{\"type\":\"heatmapgl\",\"colorbar\":{\"outlinewidth\":0,\"ticks\":\"\"},\"colorscale\":[[0.0,\"#0d0887\"],[0.1111111111111111,\"#46039f\"],[0.2222222222222222,\"#7201a8\"],[0.3333333333333333,\"#9c179e\"],[0.4444444444444444,\"#bd3786\"],[0.5555555555555556,\"#d8576b\"],[0.6666666666666666,\"#ed7953\"],[0.7777777777777778,\"#fb9f3a\"],[0.8888888888888888,\"#fdca26\"],[1.0,\"#f0f921\"]]}],\"contourcarpet\":[{\"type\":\"contourcarpet\",\"colorbar\":{\"outlinewidth\":0,\"ticks\":\"\"}}],\"contour\":[{\"type\":\"contour\",\"colorbar\":{\"outlinewidth\":0,\"ticks\":\"\"},\"colorscale\":[[0.0,\"#0d0887\"],[0.1111111111111111,\"#46039f\"],[0.2222222222222222,\"#7201a8\"],[0.3333333333333333,\"#9c179e\"],[0.4444444444444444,\"#bd3786\"],[0.5555555555555556,\"#d8576b\"],[0.6666666666666666,\"#ed7953\"],[0.7777777777777778,\"#fb9f3a\"],[0.8888888888888888,\"#fdca26\"],[1.0,\"#f0f921\"]]}],\"surface\":[{\"type\":\"surface\",\"colorbar\":{\"outlinewidth\":0,\"ticks\":\"\"},\"colorscale\":[[0.0,\"#0d0887\"],[0.1111111111111111,\"#46039f\"],[0.2222222222222222,\"#7201a8\"],[0.3333333333333333,\"#9c179e\"],[0.4444444444444444,\"#bd3786\"],[0.5555555555555556,\"#d8576b\"],[0.6666666666666666,\"#ed7953\"],[0.7777777777777778,\"#fb9f3a\"],[0.8888888888888888,\"#fdca26\"],[1.0,\"#f0f921\"]]}],\"mesh3d\":[{\"type\":\"mesh3d\",\"colorbar\":{\"outlinewidth\":0,\"ticks\":\"\"}}],\"scatter\":[{\"fillpattern\":{\"fillmode\":\"overlay\",\"size\":10,\"solidity\":0.2},\"type\":\"scatter\"}],\"parcoords\":[{\"type\":\"parcoords\",\"line\":{\"colorbar\":{\"outlinewidth\":0,\"ticks\":\"\"}}}],\"scatterpolargl\":[{\"type\":\"scatterpolargl\",\"marker\":{\"colorbar\":{\"outlinewidth\":0,\"ticks\":\"\"}}}],\"bar\":[{\"error_x\":{\"color\":\"#2a3f5f\"},\"error_y\":{\"color\":\"#2a3f5f\"},\"marker\":{\"line\":{\"color\":\"#E5ECF6\",\"width\":0.5},\"pattern\":{\"fillmode\":\"overlay\",\"size\":10,\"solidity\":0.2}},\"type\":\"bar\"}],\"scattergeo\":[{\"type\":\"scattergeo\",\"marker\":{\"colorbar\":{\"outlinewidth\":0,\"ticks\":\"\"}}}],\"scatterpolar\":[{\"type\":\"scatterpolar\",\"marker\":{\"colorbar\":{\"outlinewidth\":0,\"ticks\":\"\"}}}],\"histogram\":[{\"marker\":{\"pattern\":{\"fillmode\":\"overlay\",\"size\":10,\"solidity\":0.2}},\"type\":\"histogram\"}],\"scattergl\":[{\"type\":\"scattergl\",\"marker\":{\"colorbar\":{\"outlinewidth\":0,\"ticks\":\"\"}}}],\"scatter3d\":[{\"type\":\"scatter3d\",\"line\":{\"colorbar\":{\"outlinewidth\":0,\"ticks\":\"\"}},\"marker\":{\"colorbar\":{\"outlinewidth\":0,\"ticks\":\"\"}}}],\"scattermapbox\":[{\"type\":\"scattermapbox\",\"marker\":{\"colorbar\":{\"outlinewidth\":0,\"ticks\":\"\"}}}],\"scatterternary\":[{\"type\":\"scatterternary\",\"marker\":{\"colorbar\":{\"outlinewidth\":0,\"ticks\":\"\"}}}],\"scattercarpet\":[{\"type\":\"scattercarpet\",\"marker\":{\"colorbar\":{\"outlinewidth\":0,\"ticks\":\"\"}}}],\"carpet\":[{\"aaxis\":{\"endlinecolor\":\"#2a3f5f\",\"gridcolor\":\"white\",\"linecolor\":\"white\",\"minorgridcolor\":\"white\",\"startlinecolor\":\"#2a3f5f\"},\"baxis\":{\"endlinecolor\":\"#2a3f5f\",\"gridcolor\":\"white\",\"linecolor\":\"white\",\"minorgridcolor\":\"white\",\"startlinecolor\":\"#2a3f5f\"},\"type\":\"carpet\"}],\"table\":[{\"cells\":{\"fill\":{\"color\":\"#EBF0F8\"},\"line\":{\"color\":\"white\"}},\"header\":{\"fill\":{\"color\":\"#C8D4E3\"},\"line\":{\"color\":\"white\"}},\"type\":\"table\"}],\"barpolar\":[{\"marker\":{\"line\":{\"color\":\"#E5ECF6\",\"width\":0.5},\"pattern\":{\"fillmode\":\"overlay\",\"size\":10,\"solidity\":0.2}},\"type\":\"barpolar\"}],\"pie\":[{\"automargin\":true,\"type\":\"pie\"}]},\"layout\":{\"autotypenumbers\":\"strict\",\"colorway\":[\"#636efa\",\"#EF553B\",\"#00cc96\",\"#ab63fa\",\"#FFA15A\",\"#19d3f3\",\"#FF6692\",\"#B6E880\",\"#FF97FF\",\"#FECB52\"],\"font\":{\"color\":\"#2a3f5f\"},\"hovermode\":\"closest\",\"hoverlabel\":{\"align\":\"left\"},\"paper_bgcolor\":\"white\",\"plot_bgcolor\":\"#E5ECF6\",\"polar\":{\"bgcolor\":\"#E5ECF6\",\"angularaxis\":{\"gridcolor\":\"white\",\"linecolor\":\"white\",\"ticks\":\"\"},\"radialaxis\":{\"gridcolor\":\"white\",\"linecolor\":\"white\",\"ticks\":\"\"}},\"ternary\":{\"bgcolor\":\"#E5ECF6\",\"aaxis\":{\"gridcolor\":\"white\",\"linecolor\":\"white\",\"ticks\":\"\"},\"baxis\":{\"gridcolor\":\"white\",\"linecolor\":\"white\",\"ticks\":\"\"},\"caxis\":{\"gridcolor\":\"white\",\"linecolor\":\"white\",\"ticks\":\"\"}},\"coloraxis\":{\"colorbar\":{\"outlinewidth\":0,\"ticks\":\"\"}},\"colorscale\":{\"sequential\":[[0.0,\"#0d0887\"],[0.1111111111111111,\"#46039f\"],[0.2222222222222222,\"#7201a8\"],[0.3333333333333333,\"#9c179e\"],[0.4444444444444444,\"#bd3786\"],[0.5555555555555556,\"#d8576b\"],[0.6666666666666666,\"#ed7953\"],[0.7777777777777778,\"#fb9f3a\"],[0.8888888888888888,\"#fdca26\"],[1.0,\"#f0f921\"]],\"sequentialminus\":[[0.0,\"#0d0887\"],[0.1111111111111111,\"#46039f\"],[0.2222222222222222,\"#7201a8\"],[0.3333333333333333,\"#9c179e\"],[0.4444444444444444,\"#bd3786\"],[0.5555555555555556,\"#d8576b\"],[0.6666666666666666,\"#ed7953\"],[0.7777777777777778,\"#fb9f3a\"],[0.8888888888888888,\"#fdca26\"],[1.0,\"#f0f921\"]],\"diverging\":[[0,\"#8e0152\"],[0.1,\"#c51b7d\"],[0.2,\"#de77ae\"],[0.3,\"#f1b6da\"],[0.4,\"#fde0ef\"],[0.5,\"#f7f7f7\"],[0.6,\"#e6f5d0\"],[0.7,\"#b8e186\"],[0.8,\"#7fbc41\"],[0.9,\"#4d9221\"],[1,\"#276419\"]]},\"xaxis\":{\"gridcolor\":\"white\",\"linecolor\":\"white\",\"ticks\":\"\",\"title\":{\"standoff\":15},\"zerolinecolor\":\"white\",\"automargin\":true,\"zerolinewidth\":2},\"yaxis\":{\"gridcolor\":\"white\",\"linecolor\":\"white\",\"ticks\":\"\",\"title\":{\"standoff\":15},\"zerolinecolor\":\"white\",\"automargin\":true,\"zerolinewidth\":2},\"scene\":{\"xaxis\":{\"backgroundcolor\":\"#E5ECF6\",\"gridcolor\":\"white\",\"linecolor\":\"white\",\"showbackground\":true,\"ticks\":\"\",\"zerolinecolor\":\"white\",\"gridwidth\":2},\"yaxis\":{\"backgroundcolor\":\"#E5ECF6\",\"gridcolor\":\"white\",\"linecolor\":\"white\",\"showbackground\":true,\"ticks\":\"\",\"zerolinecolor\":\"white\",\"gridwidth\":2},\"zaxis\":{\"backgroundcolor\":\"#E5ECF6\",\"gridcolor\":\"white\",\"linecolor\":\"white\",\"showbackground\":true,\"ticks\":\"\",\"zerolinecolor\":\"white\",\"gridwidth\":2}},\"shapedefaults\":{\"line\":{\"color\":\"#2a3f5f\"}},\"annotationdefaults\":{\"arrowcolor\":\"#2a3f5f\",\"arrowhead\":0,\"arrowwidth\":1},\"geo\":{\"bgcolor\":\"white\",\"landcolor\":\"#E5ECF6\",\"subunitcolor\":\"white\",\"showland\":true,\"showlakes\":true,\"lakecolor\":\"white\"},\"title\":{\"x\":0.05},\"mapbox\":{\"style\":\"light\"}}},\"xaxis\":{\"anchor\":\"y\",\"domain\":[0.0,1.0],\"title\":{\"text\":\"Timestamp\"}},\"yaxis\":{\"anchor\":\"x\",\"domain\":[0.0,1.0],\"title\":{\"text\":\"Total Consumption\"}},\"legend\":{\"tracegroupgap\":0},\"title\":{\"text\":\"Total Consumption over Time\"}},                        {\"responsive\": true}                    ).then(function(){\n",
              "                            \n",
              "var gd = document.getElementById('76e81f3a-a480-4a4b-99be-36f3f437967c');\n",
              "var x = new MutationObserver(function (mutations, observer) {{\n",
              "        var display = window.getComputedStyle(gd).display;\n",
              "        if (!display || display === 'none') {{\n",
              "            console.log([gd, 'removed!']);\n",
              "            Plotly.purge(gd);\n",
              "            observer.disconnect();\n",
              "        }}\n",
              "}});\n",
              "\n",
              "// Listen for the removal of the full notebook cells\n",
              "var notebookContainer = gd.closest('#notebook-container');\n",
              "if (notebookContainer) {{\n",
              "    x.observe(notebookContainer, {childList: true});\n",
              "}}\n",
              "\n",
              "// Listen for the clearing of the current output cell\n",
              "var outputEl = gd.closest('.output');\n",
              "if (outputEl) {{\n",
              "    x.observe(outputEl, {childList: true});\n",
              "}}\n",
              "\n",
              "                        })                };                            </script>        </div>\n",
              "</body>\n",
              "</html>"
            ]
          },
          "metadata": {}
        }
      ]
    },
    {
      "cell_type": "code",
      "source": [
        "import plotly.express as px\n",
        "import pandas as pd\n",
        "\n",
        "# Convert the 'timestamp' column to datetime\n",
        "data['timestamp'] = pd.to_datetime(data['timestamp'])\n",
        "\n",
        "# Extract the hour values from the 'timestamp' column and create a new column\n",
        "data['timestamp_hour'] = data['timestamp'].dt.hour\n",
        "\n",
        "# Group the data by hour and calculate the sum of total consumption\n",
        "hourly_consumption = data.groupby('timestamp_hour')['total_consumption'].sum()\n",
        "\n",
        "# Plot the hourly consumption\n",
        "fig = px.line(hourly_consumption.reset_index(), x='timestamp_hour', y='total_consumption')\n",
        "fig.update_xaxes(title='Hour')\n",
        "fig.update_yaxes(title='Total Consumption')\n",
        "fig.show()\n"
      ],
      "metadata": {
        "colab": {
          "base_uri": "https://localhost:8080/",
          "height": 542
        },
        "id": "_easrgQY4qV3",
        "outputId": "eff16f8e-d309-40bf-ddd9-8f1a2369011b"
      },
      "execution_count": null,
      "outputs": [
        {
          "output_type": "display_data",
          "data": {
            "text/html": [
              "<html>\n",
              "<head><meta charset=\"utf-8\" /></head>\n",
              "<body>\n",
              "    <div>            <script src=\"https://cdnjs.cloudflare.com/ajax/libs/mathjax/2.7.5/MathJax.js?config=TeX-AMS-MML_SVG\"></script><script type=\"text/javascript\">if (window.MathJax && window.MathJax.Hub && window.MathJax.Hub.Config) {window.MathJax.Hub.Config({SVG: {font: \"STIX-Web\"}});}</script>                <script type=\"text/javascript\">window.PlotlyConfig = {MathJaxConfig: 'local'};</script>\n",
              "        <script charset=\"utf-8\" src=\"https://cdn.plot.ly/plotly-2.24.1.min.js\"></script>                <div id=\"4483af08-2a7c-4f01-8348-69851c4d79b9\" class=\"plotly-graph-div\" style=\"height:525px; width:100%;\"></div>            <script type=\"text/javascript\">                                    window.PLOTLYENV=window.PLOTLYENV || {};                                    if (document.getElementById(\"4483af08-2a7c-4f01-8348-69851c4d79b9\")) {                    Plotly.newPlot(                        \"4483af08-2a7c-4f01-8348-69851c4d79b9\",                        [{\"hovertemplate\":\"timestamp_hour=%{x}\\u003cbr\\u003etotal_consumption=%{y}\\u003cextra\\u003e\\u003c\\u002fextra\\u003e\",\"legendgroup\":\"\",\"line\":{\"color\":\"#636efa\",\"dash\":\"solid\"},\"marker\":{\"symbol\":\"circle\"},\"mode\":\"lines\",\"name\":\"\",\"orientation\":\"v\",\"showlegend\":false,\"x\":[0,1,2,3,4,5,6,7,8,9,10,11,12,13,14,15,16,17,18,19,20,21,22,23],\"xaxis\":\"x\",\"y\":[24709.987449744207,21062.24928485029,18981.836100551518,19666.18250705542,18679.786564383314,21211.11608778812,14401.975227286825,14065.674373966316,10949.631025997656,23538.183233779717,37226.37078513645,41941.2516424506,53998.62124955147,63622.163741790195,65926.87987966779,58049.37470213374,51844.573276604206,58938.494927287575,57012.88290471808,57658.086352934755,57098.57817467286,48545.22016120565,44842.71450770022,38254.26703602528],\"yaxis\":\"y\",\"type\":\"scatter\"}],                        {\"template\":{\"data\":{\"histogram2dcontour\":[{\"type\":\"histogram2dcontour\",\"colorbar\":{\"outlinewidth\":0,\"ticks\":\"\"},\"colorscale\":[[0.0,\"#0d0887\"],[0.1111111111111111,\"#46039f\"],[0.2222222222222222,\"#7201a8\"],[0.3333333333333333,\"#9c179e\"],[0.4444444444444444,\"#bd3786\"],[0.5555555555555556,\"#d8576b\"],[0.6666666666666666,\"#ed7953\"],[0.7777777777777778,\"#fb9f3a\"],[0.8888888888888888,\"#fdca26\"],[1.0,\"#f0f921\"]]}],\"choropleth\":[{\"type\":\"choropleth\",\"colorbar\":{\"outlinewidth\":0,\"ticks\":\"\"}}],\"histogram2d\":[{\"type\":\"histogram2d\",\"colorbar\":{\"outlinewidth\":0,\"ticks\":\"\"},\"colorscale\":[[0.0,\"#0d0887\"],[0.1111111111111111,\"#46039f\"],[0.2222222222222222,\"#7201a8\"],[0.3333333333333333,\"#9c179e\"],[0.4444444444444444,\"#bd3786\"],[0.5555555555555556,\"#d8576b\"],[0.6666666666666666,\"#ed7953\"],[0.7777777777777778,\"#fb9f3a\"],[0.8888888888888888,\"#fdca26\"],[1.0,\"#f0f921\"]]}],\"heatmap\":[{\"type\":\"heatmap\",\"colorbar\":{\"outlinewidth\":0,\"ticks\":\"\"},\"colorscale\":[[0.0,\"#0d0887\"],[0.1111111111111111,\"#46039f\"],[0.2222222222222222,\"#7201a8\"],[0.3333333333333333,\"#9c179e\"],[0.4444444444444444,\"#bd3786\"],[0.5555555555555556,\"#d8576b\"],[0.6666666666666666,\"#ed7953\"],[0.7777777777777778,\"#fb9f3a\"],[0.8888888888888888,\"#fdca26\"],[1.0,\"#f0f921\"]]}],\"heatmapgl\":[{\"type\":\"heatmapgl\",\"colorbar\":{\"outlinewidth\":0,\"ticks\":\"\"},\"colorscale\":[[0.0,\"#0d0887\"],[0.1111111111111111,\"#46039f\"],[0.2222222222222222,\"#7201a8\"],[0.3333333333333333,\"#9c179e\"],[0.4444444444444444,\"#bd3786\"],[0.5555555555555556,\"#d8576b\"],[0.6666666666666666,\"#ed7953\"],[0.7777777777777778,\"#fb9f3a\"],[0.8888888888888888,\"#fdca26\"],[1.0,\"#f0f921\"]]}],\"contourcarpet\":[{\"type\":\"contourcarpet\",\"colorbar\":{\"outlinewidth\":0,\"ticks\":\"\"}}],\"contour\":[{\"type\":\"contour\",\"colorbar\":{\"outlinewidth\":0,\"ticks\":\"\"},\"colorscale\":[[0.0,\"#0d0887\"],[0.1111111111111111,\"#46039f\"],[0.2222222222222222,\"#7201a8\"],[0.3333333333333333,\"#9c179e\"],[0.4444444444444444,\"#bd3786\"],[0.5555555555555556,\"#d8576b\"],[0.6666666666666666,\"#ed7953\"],[0.7777777777777778,\"#fb9f3a\"],[0.8888888888888888,\"#fdca26\"],[1.0,\"#f0f921\"]]}],\"surface\":[{\"type\":\"surface\",\"colorbar\":{\"outlinewidth\":0,\"ticks\":\"\"},\"colorscale\":[[0.0,\"#0d0887\"],[0.1111111111111111,\"#46039f\"],[0.2222222222222222,\"#7201a8\"],[0.3333333333333333,\"#9c179e\"],[0.4444444444444444,\"#bd3786\"],[0.5555555555555556,\"#d8576b\"],[0.6666666666666666,\"#ed7953\"],[0.7777777777777778,\"#fb9f3a\"],[0.8888888888888888,\"#fdca26\"],[1.0,\"#f0f921\"]]}],\"mesh3d\":[{\"type\":\"mesh3d\",\"colorbar\":{\"outlinewidth\":0,\"ticks\":\"\"}}],\"scatter\":[{\"fillpattern\":{\"fillmode\":\"overlay\",\"size\":10,\"solidity\":0.2},\"type\":\"scatter\"}],\"parcoords\":[{\"type\":\"parcoords\",\"line\":{\"colorbar\":{\"outlinewidth\":0,\"ticks\":\"\"}}}],\"scatterpolargl\":[{\"type\":\"scatterpolargl\",\"marker\":{\"colorbar\":{\"outlinewidth\":0,\"ticks\":\"\"}}}],\"bar\":[{\"error_x\":{\"color\":\"#2a3f5f\"},\"error_y\":{\"color\":\"#2a3f5f\"},\"marker\":{\"line\":{\"color\":\"#E5ECF6\",\"width\":0.5},\"pattern\":{\"fillmode\":\"overlay\",\"size\":10,\"solidity\":0.2}},\"type\":\"bar\"}],\"scattergeo\":[{\"type\":\"scattergeo\",\"marker\":{\"colorbar\":{\"outlinewidth\":0,\"ticks\":\"\"}}}],\"scatterpolar\":[{\"type\":\"scatterpolar\",\"marker\":{\"colorbar\":{\"outlinewidth\":0,\"ticks\":\"\"}}}],\"histogram\":[{\"marker\":{\"pattern\":{\"fillmode\":\"overlay\",\"size\":10,\"solidity\":0.2}},\"type\":\"histogram\"}],\"scattergl\":[{\"type\":\"scattergl\",\"marker\":{\"colorbar\":{\"outlinewidth\":0,\"ticks\":\"\"}}}],\"scatter3d\":[{\"type\":\"scatter3d\",\"line\":{\"colorbar\":{\"outlinewidth\":0,\"ticks\":\"\"}},\"marker\":{\"colorbar\":{\"outlinewidth\":0,\"ticks\":\"\"}}}],\"scattermapbox\":[{\"type\":\"scattermapbox\",\"marker\":{\"colorbar\":{\"outlinewidth\":0,\"ticks\":\"\"}}}],\"scatterternary\":[{\"type\":\"scatterternary\",\"marker\":{\"colorbar\":{\"outlinewidth\":0,\"ticks\":\"\"}}}],\"scattercarpet\":[{\"type\":\"scattercarpet\",\"marker\":{\"colorbar\":{\"outlinewidth\":0,\"ticks\":\"\"}}}],\"carpet\":[{\"aaxis\":{\"endlinecolor\":\"#2a3f5f\",\"gridcolor\":\"white\",\"linecolor\":\"white\",\"minorgridcolor\":\"white\",\"startlinecolor\":\"#2a3f5f\"},\"baxis\":{\"endlinecolor\":\"#2a3f5f\",\"gridcolor\":\"white\",\"linecolor\":\"white\",\"minorgridcolor\":\"white\",\"startlinecolor\":\"#2a3f5f\"},\"type\":\"carpet\"}],\"table\":[{\"cells\":{\"fill\":{\"color\":\"#EBF0F8\"},\"line\":{\"color\":\"white\"}},\"header\":{\"fill\":{\"color\":\"#C8D4E3\"},\"line\":{\"color\":\"white\"}},\"type\":\"table\"}],\"barpolar\":[{\"marker\":{\"line\":{\"color\":\"#E5ECF6\",\"width\":0.5},\"pattern\":{\"fillmode\":\"overlay\",\"size\":10,\"solidity\":0.2}},\"type\":\"barpolar\"}],\"pie\":[{\"automargin\":true,\"type\":\"pie\"}]},\"layout\":{\"autotypenumbers\":\"strict\",\"colorway\":[\"#636efa\",\"#EF553B\",\"#00cc96\",\"#ab63fa\",\"#FFA15A\",\"#19d3f3\",\"#FF6692\",\"#B6E880\",\"#FF97FF\",\"#FECB52\"],\"font\":{\"color\":\"#2a3f5f\"},\"hovermode\":\"closest\",\"hoverlabel\":{\"align\":\"left\"},\"paper_bgcolor\":\"white\",\"plot_bgcolor\":\"#E5ECF6\",\"polar\":{\"bgcolor\":\"#E5ECF6\",\"angularaxis\":{\"gridcolor\":\"white\",\"linecolor\":\"white\",\"ticks\":\"\"},\"radialaxis\":{\"gridcolor\":\"white\",\"linecolor\":\"white\",\"ticks\":\"\"}},\"ternary\":{\"bgcolor\":\"#E5ECF6\",\"aaxis\":{\"gridcolor\":\"white\",\"linecolor\":\"white\",\"ticks\":\"\"},\"baxis\":{\"gridcolor\":\"white\",\"linecolor\":\"white\",\"ticks\":\"\"},\"caxis\":{\"gridcolor\":\"white\",\"linecolor\":\"white\",\"ticks\":\"\"}},\"coloraxis\":{\"colorbar\":{\"outlinewidth\":0,\"ticks\":\"\"}},\"colorscale\":{\"sequential\":[[0.0,\"#0d0887\"],[0.1111111111111111,\"#46039f\"],[0.2222222222222222,\"#7201a8\"],[0.3333333333333333,\"#9c179e\"],[0.4444444444444444,\"#bd3786\"],[0.5555555555555556,\"#d8576b\"],[0.6666666666666666,\"#ed7953\"],[0.7777777777777778,\"#fb9f3a\"],[0.8888888888888888,\"#fdca26\"],[1.0,\"#f0f921\"]],\"sequentialminus\":[[0.0,\"#0d0887\"],[0.1111111111111111,\"#46039f\"],[0.2222222222222222,\"#7201a8\"],[0.3333333333333333,\"#9c179e\"],[0.4444444444444444,\"#bd3786\"],[0.5555555555555556,\"#d8576b\"],[0.6666666666666666,\"#ed7953\"],[0.7777777777777778,\"#fb9f3a\"],[0.8888888888888888,\"#fdca26\"],[1.0,\"#f0f921\"]],\"diverging\":[[0,\"#8e0152\"],[0.1,\"#c51b7d\"],[0.2,\"#de77ae\"],[0.3,\"#f1b6da\"],[0.4,\"#fde0ef\"],[0.5,\"#f7f7f7\"],[0.6,\"#e6f5d0\"],[0.7,\"#b8e186\"],[0.8,\"#7fbc41\"],[0.9,\"#4d9221\"],[1,\"#276419\"]]},\"xaxis\":{\"gridcolor\":\"white\",\"linecolor\":\"white\",\"ticks\":\"\",\"title\":{\"standoff\":15},\"zerolinecolor\":\"white\",\"automargin\":true,\"zerolinewidth\":2},\"yaxis\":{\"gridcolor\":\"white\",\"linecolor\":\"white\",\"ticks\":\"\",\"title\":{\"standoff\":15},\"zerolinecolor\":\"white\",\"automargin\":true,\"zerolinewidth\":2},\"scene\":{\"xaxis\":{\"backgroundcolor\":\"#E5ECF6\",\"gridcolor\":\"white\",\"linecolor\":\"white\",\"showbackground\":true,\"ticks\":\"\",\"zerolinecolor\":\"white\",\"gridwidth\":2},\"yaxis\":{\"backgroundcolor\":\"#E5ECF6\",\"gridcolor\":\"white\",\"linecolor\":\"white\",\"showbackground\":true,\"ticks\":\"\",\"zerolinecolor\":\"white\",\"gridwidth\":2},\"zaxis\":{\"backgroundcolor\":\"#E5ECF6\",\"gridcolor\":\"white\",\"linecolor\":\"white\",\"showbackground\":true,\"ticks\":\"\",\"zerolinecolor\":\"white\",\"gridwidth\":2}},\"shapedefaults\":{\"line\":{\"color\":\"#2a3f5f\"}},\"annotationdefaults\":{\"arrowcolor\":\"#2a3f5f\",\"arrowhead\":0,\"arrowwidth\":1},\"geo\":{\"bgcolor\":\"white\",\"landcolor\":\"#E5ECF6\",\"subunitcolor\":\"white\",\"showland\":true,\"showlakes\":true,\"lakecolor\":\"white\"},\"title\":{\"x\":0.05},\"mapbox\":{\"style\":\"light\"}}},\"xaxis\":{\"anchor\":\"y\",\"domain\":[0.0,1.0],\"title\":{\"text\":\"Hour\"}},\"yaxis\":{\"anchor\":\"x\",\"domain\":[0.0,1.0],\"title\":{\"text\":\"Total Consumption\"}},\"legend\":{\"tracegroupgap\":0},\"margin\":{\"t\":60}},                        {\"responsive\": true}                    ).then(function(){\n",
              "                            \n",
              "var gd = document.getElementById('4483af08-2a7c-4f01-8348-69851c4d79b9');\n",
              "var x = new MutationObserver(function (mutations, observer) {{\n",
              "        var display = window.getComputedStyle(gd).display;\n",
              "        if (!display || display === 'none') {{\n",
              "            console.log([gd, 'removed!']);\n",
              "            Plotly.purge(gd);\n",
              "            observer.disconnect();\n",
              "        }}\n",
              "}});\n",
              "\n",
              "// Listen for the removal of the full notebook cells\n",
              "var notebookContainer = gd.closest('#notebook-container');\n",
              "if (notebookContainer) {{\n",
              "    x.observe(notebookContainer, {childList: true});\n",
              "}}\n",
              "\n",
              "// Listen for the clearing of the current output cell\n",
              "var outputEl = gd.closest('.output');\n",
              "if (outputEl) {{\n",
              "    x.observe(outputEl, {childList: true});\n",
              "}}\n",
              "\n",
              "                        })                };                            </script>        </div>\n",
              "</body>\n",
              "</html>"
            ]
          },
          "metadata": {}
        }
      ]
    },
    {
      "cell_type": "code",
      "source": [
        "import matplotlib.pyplot as plt\n",
        "from sklearn.model_selection import train_test_split\n",
        "from sklearn.svm import SVR\n",
        "from sklearn.preprocessing import StandardScaler\n",
        "from sklearn.metrics import mean_squared_error, r2_score\n",
        "from sklearn.model_selection import GridSearchCV\n",
        "\n",
        "# Drop rows with missing values\n",
        "data.dropna(subset=['total_consumption'], inplace=True)\n",
        "\n",
        "# Standardize the 'total_consumption' feature\n",
        "scaler = StandardScaler()\n",
        "data['total_consumption_scaled'] = scaler.fit_transform(data['total_consumption'].values.reshape(-1, 1))\n",
        "\n",
        "# Create a continuous target variable based on mains consumption\n",
        "data['mains_continuous'] = data['mains']\n",
        "\n",
        "# Split the data into training and testing sets\n",
        "X = data['total_consumption_scaled']\n",
        "y = data['mains_continuous']\n",
        "\n",
        "X_train, X_test, y_train, y_test = train_test_split(X, y, test_size=0.2, random_state=42)\n",
        "\n",
        "# Reshape the data into a two-dimensional array\n",
        "X_train = X_train.values.reshape(-1, 1)\n",
        "X_test = X_test.values.reshape(-1, 1)\n",
        "\n",
        "# Define the parameter grid\n",
        "param_grid = {\n",
        "    'C': [10, 20, 50, 100, 200],\n",
        "    'epsilon': [0.1, 0.2, 0.3, 0.4, 0.5],\n",
        "    'kernel': ['linear', 'rbf']\n",
        "}\n",
        "\n",
        "# Define the SVR model with initial parameters\n",
        "svr = SVR()\n",
        "\n",
        "# Create the GridSearchCV object\n",
        "grid_search = GridSearchCV(estimator=svr, param_grid=param_grid, scoring='neg_mean_squared_error')\n",
        "\n",
        "# Fit the grid search to the training data\n",
        "grid_search.fit(X_train, y_train)\n",
        "\n",
        "\n",
        "\n",
        "# Print the best parameters and score\n",
        "print(\"Best parameters:\", grid_search.best_params_)\n",
        "\n",
        "# Define the SVR model with optimal parameters\n",
        "svr = SVR(C=grid_search.best_params_['C'], epsilon=grid_search.best_params_['epsilon'], kernel='linear')\n",
        "\n",
        "# Train the SVR model on the training set\n",
        "svr.fit(X_train, y_train)\n",
        "\n",
        "# Make predictions on the test set\n",
        "y_pred = svr.predict(X_test)\n",
        "\n"
      ],
      "metadata": {
        "id": "TdIRmeQXZ5B0",
        "colab": {
          "base_uri": "https://localhost:8080/"
        },
        "outputId": "3c0d6aba-be6f-4ab4-8a0c-b6c1327e775c"
      },
      "execution_count": null,
      "outputs": [
        {
          "output_type": "stream",
          "name": "stdout",
          "text": [
            "Best parameters: {'C': 50, 'epsilon': 0.1, 'kernel': 'linear'}\n"
          ]
        }
      ]
    },
    {
      "cell_type": "code",
      "source": [
        "from sklearn.metrics import accuracy_score\n",
        "\n",
        "# Define a threshold for binary classification\n",
        "threshold = 2000\n",
        "\n",
        "# Convert predictions to binary (0 or 1)\n",
        "y_pred_binary = (y_pred > threshold).astype(int)\n",
        "\n",
        "# Round the continuous target to make it binary\n",
        "y_test_binary = (y_test > threshold).astype(int)\n",
        "\n",
        "# Evaluate the performance of the model using mean squared error (MSE), R-squared, and accuracy\n",
        "mse = mean_squared_error(y_test_binary, y_pred_binary)\n",
        "r2 = r2_score(y_test_binary, y_pred_binary)\n",
        "accuracy = accuracy_score(y_test_binary, y_pred_binary)\n",
        "\n",
        "print(\"Mean Squared Error (MSE):\", mse)\n",
        "print(\"R-squared:\", r2)\n",
        "print(\"Accuracy:\", accuracy)"
      ],
      "metadata": {
        "colab": {
          "base_uri": "https://localhost:8080/"
        },
        "id": "20b9N9Nvgae-",
        "outputId": "ce12a43d-0707-4bb4-a90d-af9af08742ee"
      },
      "execution_count": null,
      "outputs": [
        {
          "output_type": "stream",
          "name": "stdout",
          "text": [
            "Mean Squared Error (MSE): 0.038461538461538464\n",
            "R-squared: 0.8461538461538461\n",
            "Accuracy: 0.9615384615384616\n"
          ]
        }
      ]
    },
    {
      "cell_type": "code",
      "source": [
        "from sklearn.metrics import precision_recall_fscore_support\n",
        "\n",
        "# Calculate precision, recall, and F1 score\n",
        "precision, recall, f1, _ = precision_recall_fscore_support(y_test_binary, y_pred_binary, average='binary')\n",
        "\n",
        "# Print the metrics\n",
        "print(\"Precision:\", precision)\n",
        "print(\"Recall:\", recall)\n",
        "print(\"F1 Score:\", f1)\n"
      ],
      "metadata": {
        "colab": {
          "base_uri": "https://localhost:8080/"
        },
        "id": "meMrzifAg280",
        "outputId": "b742c5b9-220c-4aa7-bac5-8c229da6e88a"
      },
      "execution_count": null,
      "outputs": [
        {
          "output_type": "stream",
          "name": "stdout",
          "text": [
            "Precision: 0.9285714285714286\n",
            "Recall: 1.0\n",
            "F1 Score: 0.962962962962963\n"
          ]
        }
      ]
    },
    {
      "cell_type": "code",
      "source": [
        "from sklearn.metrics import classification_report, confusion_matrix\n",
        "\n",
        "# Create a confusion matrix\n",
        "cm = confusion_matrix(y_test_binary, y_pred_binary)\n",
        "\n",
        "# Print the confusion matrix\n",
        "print(\"Confusion Matrix:\")\n",
        "print(cm)\n"
      ],
      "metadata": {
        "id": "wGJKPXL2hnPl"
      },
      "execution_count": null,
      "outputs": []
    },
    {
      "cell_type": "code",
      "source": [
        "\n",
        "# Calculate and print classification report\n",
        "classification_rep = classification_report(y_test_binary, y_pred_binary)\n",
        "print(\"\\nClassification Report:\")\n",
        "print(classification_rep)"
      ],
      "metadata": {
        "id": "7bnmyh__kExs"
      },
      "execution_count": null,
      "outputs": []
    },
    {
      "cell_type": "code",
      "source": [
        "import plotly.express as px\n",
        "import numpy as np\n",
        "\n",
        "# Calculate residuals (the difference between actual and predicted values)\n",
        "residuals = y_test - y_pred\n",
        "\n",
        "# Create a DataFrame with actual, predicted, and residuals\n",
        "df_heatmap = pd.DataFrame({'Actual': y_test, 'Predicted': y_pred, 'Residuals': residuals})\n",
        "\n",
        "# Calculate the correlation matrix\n",
        "correlation_matrix = df_heatmap.corr()\n",
        "\n",
        "# Create a heatmap using Plotly Express with annotations\n",
        "fig = px.imshow(\n",
        "    np.array(correlation_matrix),\n",
        "    x=correlation_matrix.columns,\n",
        "    y=correlation_matrix.index,\n",
        "    color_continuous_scale='YlOrRd',\n",
        "    labels=dict(color='Correlation'),\n",
        "    title='Correlation Heatmap: Actual vs. Predicted Mains Consumption'\n",
        ")\n",
        "\n",
        "# Add annotations to display correlation coefficients\n",
        "for i, row in enumerate(correlation_matrix.index):\n",
        "    for j, col in enumerate(correlation_matrix.columns):\n",
        "        fig.add_annotation(\n",
        "            x=col,\n",
        "            y=row,\n",
        "            text=f\"{correlation_matrix.iloc[i, j]:.2f}\",\n",
        "            showarrow=False,\n",
        "            font=dict(color='white' if abs(correlation_matrix.iloc[i, j]) > 0.5 else 'black')\n",
        "        )\n",
        "\n",
        "# Show the plot\n",
        "fig.show()\n"
      ],
      "metadata": {
        "id": "3uZW7zFTY_sX"
      },
      "execution_count": null,
      "outputs": []
    },
    {
      "cell_type": "code",
      "source": [
        "import plotly.express as px\n",
        "import pandas as pd\n",
        "\n",
        "# Create a DataFrame with actual and predicted values\n",
        "df_visualization = pd.DataFrame({'Actual': y_test, 'Predicted': y_pred})\n",
        "\n",
        "\n",
        "# Plot the actual vs predicted values as a bar chart\n",
        "fig = px.bar(df_visualization, x=df_visualization.index, y=['Actual', 'Predicted'],\n",
        "             labels={'value': 'Mains Consumption'},\n",
        "             title='Actual vs Predicted Mains Consumption')\n",
        "\n",
        "# Show the plot\n",
        "fig.show()\n"
      ],
      "metadata": {
        "id": "nnyYZqZPnL8h"
      },
      "execution_count": null,
      "outputs": []
    }
  ]
}